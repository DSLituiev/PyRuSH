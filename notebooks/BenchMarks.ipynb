{
 "cells": [
  {
   "cell_type": "markdown",
   "metadata": {},
   "source": [
    "## BenchMarks\n",
    "This notebook is to compare different version of PyRuSH regarding speed. First, install some packages."
   ]
  },
  {
   "cell_type": "markdown",
   "metadata": {},
   "source": [
    "### Get some clinical notes from mtsamples.com"
   ]
  },
  {
   "cell_type": "code",
   "execution_count": 1,
   "metadata": {},
   "outputs": [],
   "source": [
    "%%capture\n",
    "!pip install beautifulsoup4 ipywidgets matplotlib numpy"
   ]
  },
  {
   "cell_type": "code",
   "execution_count": 1,
   "metadata": {},
   "outputs": [],
   "source": [
    "from bs4 import BeautifulSoup \n",
    "import requests,re\n",
    "from ipywidgets import IntProgress\n",
    "from IPython.display import display, clear_output\n",
    "import matplotlib.pyplot as plt\n",
    "import numpy as np\n",
    "from collections import OrderedDict\n",
    "import pickle,os"
   ]
  },
  {
   "cell_type": "code",
   "execution_count": 2,
   "metadata": {},
   "outputs": [],
   "source": [
    "max_count = 100\n",
    "if os.path.exists('data_dump.pkl'):\n",
    "    with open('data_dump.pkl', 'rb') as f:\n",
    "        # The protocol version used is detected automatically, so we do not\n",
    "        # have to specify it.\n",
    "        docs = pickle.load(f)\n",
    "else:\n",
    "    print('No data dump file exist, need to generate some data...')   "
   ]
  },
  {
   "cell_type": "code",
   "execution_count": 11,
   "metadata": {},
   "outputs": [],
   "source": [
    "def get_page_urls(prefix:str='https://www.mtsamples.com/site/pages/browse.asp?type=6-Cardiovascular+%2F+Pulmonary&page=',page_ids:[]=[1,]):\n",
    "    urls=OrderedDict()\n",
    "    for i in page_ids:\n",
    "        url=prefix+str(i)\n",
    "        content= requests.get(url).text\n",
    "        soup = BeautifulSoup(content)\n",
    "        for link in soup.findAll('a', attrs={'href': re.compile(\"^/site/pages/sample.asp\")}):\n",
    "            urls['https://www.mtsamples.com'+link['href']]=None\n",
    "    return list(urls.keys())"
   ]
  },
  {
   "cell_type": "code",
   "execution_count": 12,
   "metadata": {},
   "outputs": [],
   "source": [
    "def get_format_text(url:str):\n",
    "    content= requests.get(url).text\n",
    "    soup = BeautifulSoup(content)\n",
    "    main=soup.find(\"div\", {\"id\": \"sampletext\"})\n",
    "    if main is None:\n",
    "        return ''\n",
    "    h1=main.h1\n",
    "    if h1 is None:\n",
    "        return ''\n",
    "    output=[]\n",
    "    for s in h1.next_siblings:\n",
    "        if s.name == 'div':\n",
    "            break       \n",
    "        if s.string is not None:\n",
    "            if 'MTSam' in s.string:\n",
    "                continue\n",
    "            output.append(s.string)\n",
    "    return '\\n'.join(output)"
   ]
  },
  {
   "cell_type": "code",
   "execution_count": 13,
   "metadata": {},
   "outputs": [
    {
     "data": {
      "application/vnd.jupyter.widget-view+json": {
       "model_id": "f5c7eafb9b6e463e9d1474e56b6dd46b",
       "version_major": 2,
       "version_minor": 0
      },
      "text/plain": [
       "IntProgress(value=0)"
      ]
     },
     "metadata": {},
     "output_type": "display_data"
    }
   ],
   "source": [
    "docs=[]\n",
    "urls=get_page_urls()\n",
    "if max_count>len(urls):\n",
    "    max_count=len(urls)\n",
    "f = IntProgress(min=0, max=max_count) \n",
    "display(f)\n",
    "for url in urls[:max_count]:\n",
    "    f.value += 1 \n",
    "    doc =get_format_text(url)\n",
    "    docs.append(doc)"
   ]
  },
  {
   "cell_type": "markdown",
   "metadata": {},
   "source": [
    "#### Need to dump the docs data?"
   ]
  },
  {
   "cell_type": "code",
   "execution_count": 41,
   "metadata": {},
   "outputs": [
    {
     "name": "stdout",
     "output_type": "stream",
     "text": [
      "data dump already exists, skip pickling.\n"
     ]
    }
   ],
   "source": [
    "if not os.path.exists('data_dump.pkl'):\n",
    "    with open('data_dump.pkl', 'wb') as f:\n",
    "    # Pickle the 'data' dictionary using the highest protocol available.\n",
    "        pickle.dump(docs, f, pickle.HIGHEST_PROTOCOL)\n",
    "else:\n",
    "    print(\"data dump already exists, skip pickling.\")"
   ]
  },
  {
   "cell_type": "code",
   "execution_count": 3,
   "metadata": {},
   "outputs": [
    {
     "data": {
      "text/plain": [
       "(597, 9672)"
      ]
     },
     "execution_count": 3,
     "metadata": {},
     "output_type": "execute_result"
    }
   ],
   "source": [
    "data=np.array([len(doc) for doc in docs])\n",
    "data.min(),data.max()\n"
   ]
  },
  {
   "cell_type": "code",
   "execution_count": 4,
   "metadata": {},
   "outputs": [
    {
     "data": {
      "image/png": "[encoded data removed]",
      "text/plain": [
       "<Figure size 432x288 with 1 Axes>"
      ]
     },
     "metadata": {
      "needs_background": "light"
     },
     "output_type": "display_data"
    }
   ],
   "source": [
    "bins = np.arange(400, 9000, 200)\n",
    "plt.xlim([min(data)-5, max(data)+5])\n",
    "plt.hist(data, bins=bins, alpha=0.5)\n",
    "plt.title('Doc Length Distribution Plot')\n",
    "plt.xlabel('Doc length')\n",
    "plt.ylabel('Count')\n",
    "plt.show()"
   ]
  },
  {
   "cell_type": "markdown",
   "metadata": {},
   "source": [
    "### Benchmark legacy version"
   ]
  },
  {
   "cell_type": "code",
   "execution_count": 5,
   "metadata": {},
   "outputs": [],
   "source": [
    "%%capture\n",
    "!pip install -U pyrush==1.0.2 pyfastner==1.0.8.dev1 intervaltree==2.1.0"
   ]
  },
  {
   "cell_type": "code",
   "execution_count": 6,
   "metadata": {},
   "outputs": [],
   "source": [
    "def process(seg_func, docs):\n",
    "    f = IntProgress(min=0, max=max_count) \n",
    "    clear_output()\n",
    "    display(f)\n",
    "    for doc in docs:\n",
    "        f.value += 1 \n",
    "        seg_func(doc)"
   ]
  },
  {
   "cell_type": "markdown",
   "metadata": {},
   "source": [
    "### Init PyRuSH"
   ]
  },
  {
   "cell_type": "code",
   "execution_count": 7,
   "metadata": {},
   "outputs": [],
   "source": [
    "from PyRuSH.RuSH import RuSH\n",
    "rush = RuSH('../conf/rush_rules.tsv')"
   ]
  },
  {
   "cell_type": "code",
   "execution_count": 8,
   "metadata": {},
   "outputs": [
    {
     "data": {
      "application/vnd.jupyter.widget-view+json": {
       "model_id": "66a06787053c4dd38491cd5e9f4bb105",
       "version_major": 2,
       "version_minor": 0
      },
      "text/plain": [
       "IntProgress(value=0)"
      ]
     },
     "metadata": {},
     "output_type": "display_data"
    },
    {
     "name": "stdout",
     "output_type": "stream",
     "text": [
      "15.7 s ± 176 ms per loop (mean ± std. dev. of 5 runs, 1 loop each)\n"
     ]
    }
   ],
   "source": [
    "%%timeit -r 5 -n 1\n",
    "process(rush.segToSentenceSpans, docs)"
   ]
  },
  {
   "cell_type": "markdown",
   "metadata": {},
   "source": [
    "### Benchmark new version"
   ]
  },
  {
   "cell_type": "markdown",
   "metadata": {},
   "source": [
    "Reboot the notebook kernal, in case the loaded class won't clear out."
   ]
  },
  {
   "cell_type": "code",
   "execution_count": 5,
   "metadata": {},
   "outputs": [],
   "source": [
    "%%capture\n",
    "!pip install -U pyrush==1.0.3 PyFastNER==1.0.8b1"
   ]
  },
  {
   "cell_type": "markdown",
   "metadata": {},
   "source": [
    "Note: The new version simplified the import syntax"
   ]
  },
  {
   "cell_type": "code",
   "execution_count": 6,
   "metadata": {},
   "outputs": [
    {
     "name": "stdout",
     "output_type": "stream",
     "text": [
      "/home/brokenjade/Documents/PycharmProjects/PyRuSH/notebooks/../conf/rush_rules.tsv\n"
     ]
    }
   ],
   "source": [
    "from PyRuSH.RuSH import RuSH as RuSH3\n",
    "rush3 = RuSH3('../conf/rush_rules.tsv',auto_fix_gaps=False)"
   ]
  },
  {
   "cell_type": "code",
   "execution_count": 11,
   "metadata": {},
   "outputs": [
    {
     "data": {
      "application/vnd.jupyter.widget-view+json": {
       "model_id": "98b852cf53fd4dda8b83aa7b7b8e7c7e",
       "version_major": 2,
       "version_minor": 0
      },
      "text/plain": [
       "IntProgress(value=0)"
      ]
     },
     "metadata": {},
     "output_type": "display_data"
    },
    {
     "name": "stdout",
     "output_type": "stream",
     "text": [
      "14.7 s ± 227 ms per loop (mean ± std. dev. of 5 runs, 1 loop each)\n"
     ]
    }
   ],
   "source": [
    "%%timeit -r 5 -n 1\n",
    "process(rush3.segToSentenceSpans, docs)"
   ]
  },
  {
   "cell_type": "markdown",
   "metadata": {},
   "source": [
    "The difference isn't that much, likely because the PyFastNER are still running native python code, switch a intervaltree implementation may not contribute significantly. Cythonize PyFastNER is next step."
   ]
  },
  {
   "cell_type": "markdown",
   "metadata": {},
   "source": [
    "### Try older PyRuSH on new PyFastNER"
   ]
  },
  {
   "cell_type": "code",
   "execution_count": 3,
   "metadata": {},
   "outputs": [],
   "source": [
    "%%capture\n",
    "!pip install -U pyrush==1.0.2 PyFastNER==1.0.8b1"
   ]
  },
  {
   "cell_type": "code",
   "execution_count": 4,
   "metadata": {},
   "outputs": [
    {
     "name": "stdout",
     "output_type": "stream",
     "text": [
      "/home/brokenjade/Documents/PycharmProjects/PyRuSH/notebooks/../conf/rush_rules.tsv\n"
     ]
    }
   ],
   "source": [
    "from PyRuSH.RuSH import RuSH\n",
    "rush = RuSH('../conf/rush_rules.tsv')"
   ]
  },
  {
   "cell_type": "code",
   "execution_count": 7,
   "metadata": {},
   "outputs": [
    {
     "data": {
      "application/vnd.jupyter.widget-view+json": {
       "model_id": "d65cd304b1734a5090ffd4a6550b88f6",
       "version_major": 2,
       "version_minor": 0
      },
      "text/plain": [
       "IntProgress(value=0)"
      ]
     },
     "metadata": {},
     "output_type": "display_data"
    },
    {
     "name": "stdout",
     "output_type": "stream",
     "text": [
      "14.8 s ± 267 ms per loop (mean ± std. dev. of 5 runs, 1 loop each)\n"
     ]
    }
   ],
   "source": [
    "%%timeit -r 5 -n 1\n",
    "process(rush.segToSentenceSpans, docs)"
   ]
  },
  {
   "cell_type": "code",
   "execution_count": null,
   "metadata": {},
   "outputs": [],
   "source": []
  }
 ],
 "metadata": {
  "kernelspec": {
   "display_name": "Python 3",
   "language": "python",
   "name": "python3"
  },
  "language_info": {
   "codemirror_mode": {
    "name": "ipython",
    "version": 3
   },
   "file_extension": ".py",
   "mimetype": "text/x-python",
   "name": "python",
   "nbconvert_exporter": "python",
   "pygments_lexer": "ipython3",
   "version": "3.6.9"
  }
 },
 "nbformat": 4,
 "nbformat_minor": 2
}
